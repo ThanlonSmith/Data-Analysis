{
 "cells": [
  {
   "cell_type": "code",
   "execution_count": 26,
   "metadata": {},
   "outputs": [
    {
     "name": "stdout",
     "output_type": "stream",
     "text": [
      "需要0.0017230510711669922s时间：\n"
     ]
    }
   ],
   "source": [
    "from threading import Thread\n",
    "def count():\n",
    "    for i in range(1000):\n",
    "        pass\n",
    "def main():\n",
    "    pass\n",
    "    import time\n",
    "    start_time = time.time()\n",
    "    for tid in range(2):\n",
    "        t = Thread(target=count)\n",
    "        t.start()\n",
    "        t.join() # 阻塞进程直到线程执行完毕\n",
    "    end_time = time.time()\n",
    "    print('需要{}s时间：'.format(end_time - start_time))\n",
    "if __name__ == '__main__':\n",
    "    main()"
   ]
  },
  {
   "cell_type": "code",
   "execution_count": 47,
   "metadata": {},
   "outputs": [
    {
     "name": "stdout",
     "output_type": "stream",
     "text": [
      "需要0.03379058837890625s时间：\n"
     ]
    }
   ],
   "source": [
    "from threading import Thread\n",
    "def count():\n",
    "    for i in range(1000):\n",
    "        pass\n",
    "def main():\n",
    "    import time\n",
    "    thread_set = {}\n",
    "    start_time = time.time()\n",
    "    for tid in range(2):\n",
    "        t = Thread(target=count)\n",
    "        t.start()\n",
    "        thread_set[tid] = t\n",
    "    # 两线程在运行的时候需要分别阻塞进程直到线程执行完毕\n",
    "    for i in range(0):\n",
    "        thread_set[i].join()\n",
    "    end_time = time.time()\n",
    "    print('需要{}s时间：'.format(end_time - start_time))\n",
    "if __name__ == '__main__':\n",
    "    main()"
   ]
  },
  {
   "cell_type": "code",
   "execution_count": 55,
   "metadata": {},
   "outputs": [
    {
     "name": "stdout",
     "output_type": "stream",
     "text": [
      "当前进程的ID是：22453\n",
      "我是父进程:22453，我创建了一个子进程:28346\n",
      "我是子进程:28346,我的父进程是:22453\n"
     ]
    }
   ],
   "source": [
    "import os\n",
    "print('当前进程的ID是：%s'%os.getpid())\n",
    "pid = os.fork()\n",
    "if pid == 0:\n",
    "    print('我是子进程:%s,我的父进程是:%s'%(os.getpid(),os.getppid()))\n",
    "else:\n",
    "    print('我是父进程:%s，我创建了一个子进程:%s'%(os.getpid(),pid))"
   ]
  },
  {
   "cell_type": "code",
   "execution_count": null,
   "metadata": {},
   "outputs": [],
   "source": [
    "4.2多进程案例"
   ]
  },
  {
   "cell_type": "code",
   "execution_count": 57,
   "metadata": {},
   "outputs": [
    {
     "name": "stdout",
     "output_type": "stream",
     "text": [
      "0\n",
      "1\n",
      "4\n",
      "9\n",
      "16\n",
      "25\n",
      "36\n",
      "49\n",
      "64\n",
      "81\n",
      "花费时间：10.024896144866943\n"
     ]
    }
   ],
   "source": [
    "import time\n",
    "def foo(n):\n",
    "    time.sleep(1)\n",
    "    print(n*n)\n",
    "if __name__ == '__main__':\n",
    "    start_time = time.time()\n",
    "    for i in range(10):\n",
    "        foo(i)\n",
    "    end_time = time.time()\n",
    "    print('花费时间：%s'%(end_time - start_time))"
   ]
  },
  {
   "cell_type": "code",
   "execution_count": 61,
   "metadata": {},
   "outputs": [
    {
     "name": "stdout",
     "output_type": "stream",
     "text": [
      "花费时间：0.12117958068847656\n",
      "0\n",
      "4\n",
      "1\n",
      "16\n",
      "25\n",
      "9\n",
      "36\n",
      "81\n",
      "64\n",
      "49\n"
     ]
    }
   ],
   "source": [
    "from multiprocessing import Process\n",
    "import time\n",
    "def foo(n):\n",
    "    time.sleep(1)\n",
    "    print(n*n)\n",
    "if __name__ == '__main__':\n",
    "    start_time = time.time()\n",
    "    for i in range(10):\n",
    "        p = Process(target=foo,args=[i,])\n",
    "        p.start()\n",
    "    end_time = time.time()\n",
    "    print('花费时间：%s'%(end_time - start_time))"
   ]
  },
  {
   "cell_type": "code",
   "execution_count": null,
   "metadata": {},
   "outputs": [
    {
     "name": "stdout",
     "output_type": "stream",
     "text": [
      "Put A to queue!\n",
      "get A from queue\n",
      "Put B to queue!\n",
      "get B from queue\n",
      "Put C to queue!\n",
      "get C from queue\n",
      "Put D to queue!\n",
      "get D from queue\n"
     ]
    }
   ],
   "source": [
    "from multiprocessing import Process,Queue\n",
    "def write(q):\n",
    "    for item in ['A','B','C','D']:\n",
    "        # 把数据读到队列中\n",
    "        q.put(item)\n",
    "        # 打印读到队列中的数据\n",
    "        print('Put %s to queue!'%item)\n",
    "        # 读入队列后停0.5再读\n",
    "        time.sleep(0.5)\n",
    "def read(q):\n",
    "    while True:\n",
    "        print('get {} from queue'.format(q.get(True)))\n",
    "if __name__ == '__main__':\n",
    "    # 初始化队列\n",
    "    q = Queue()\n",
    "    # 开进程把数据读到队列中\n",
    "    pw = Process(target=write,args=[q,])\n",
    "    # 开进程把数据从队列中读出来\n",
    "    pr = Process(target=read,args=[q,])\n",
    "    # 开始“写”的进程\n",
    "    pw.start()\n",
    "    # 开始“读”的进程\n",
    "    pr.start()\n",
    "    # 保证“读”的进程执行\n",
    "    pr.join()\n",
    "    # 关闭读的进程\n",
    "    pr.terminate()\n"
   ]
  },
  {
   "cell_type": "code",
   "execution_count": 33,
   "metadata": {},
   "outputs": [
    {
     "name": "stdout",
     "output_type": "stream",
     "text": [
      "0\n",
      "1\n",
      "4\n",
      "9\n",
      "16\n",
      "-------: 0\n",
      "-------: 1\n",
      "-------: 2\n",
      "-------: 3\n",
      "-------: 4\n",
      "-------: 5\n",
      "-------: 6\n",
      "-------: 7\n",
      "-------: 8\n",
      "-------: 9\n",
      "25\n",
      "36\n",
      "49\n",
      "64\n",
      "81\n",
      "result: 0\n",
      "result: 1\n",
      "result: 4\n",
      "result: 9\n",
      "result: 16\n",
      "result: 25\n",
      "result: 36\n",
      "result: 49\n",
      "result: 64\n",
      "result: 81\n"
     ]
    }
   ],
   "source": [
    "import time\n",
    "from multiprocessing import Pool\n",
    "def foo(x):\n",
    "    print(x*x)\n",
    "    time.sleep(2)\n",
    "    return x*x\n",
    "if __name__ == '__main__':\n",
    "    # 设置启动进程的数量\n",
    "    pool = Pool(processes=5)\n",
    "    ret_list = []\n",
    "    for i in range(10):\n",
    "        # 这是以异步的方式启动进程，如果想以同步的方式启动进程，可以使用apply方法，也可以在每次启动进程后调用res.get()方法\n",
    "        ret = pool.apply_async(foo,[i,])\n",
    "        print('-------:',i)\n",
    "        ret_list.append(ret)\n",
    "    pool.close()\n",
    "    pool.join()\n",
    "    for item in ret_list:\n",
    "        print('result:',item.get())"
   ]
  },
  {
   "cell_type": "code",
   "execution_count": 26,
   "metadata": {},
   "outputs": [
    {
     "name": "stdout",
     "output_type": "stream",
     "text": [
      "[0]\n",
      "\n",
      "[1]\n",
      "\n",
      "[2]\n",
      "\n",
      "[3]\n",
      "\n",
      "[4]\n",
      "\n",
      "--------线程执行--------\n",
      "[0]\n",
      "[0, 1]\n",
      "\n",
      "\n",
      "[0, 1, 2]\n",
      "\n",
      "[0, 1, 2, 3]\n",
      "\n",
      "[0, 1, 2, 3, 4]\n",
      "\n"
     ]
    }
   ],
   "source": [
    "from multiprocessing import Process\n",
    "import threading\n",
    "import time\n",
    "lock = threading.Lock()\n",
    "def run(data_list,i):\n",
    "    lock.acquire()\n",
    "    data_list.append(i)\n",
    "    lock.release()\n",
    "    print('%s\\n'%data_list)\n",
    "if __name__ == '__main__':\n",
    "    data_list = []\n",
    "    for i in range(5):\n",
    "        # target为每个子进程执行函数，args给函数传递参数\n",
    "        p = Process(target=run,args=[data_list,i])\n",
    "        # 进程开始执行\n",
    "        p.start()\n",
    "    # 进程执行完后，执行线程的情况。为方便看结果，等待1s后执行线程\n",
    "    time.sleep(1)\n",
    "    print('--------线程执行--------')\n",
    "    for i in range(5):\n",
    "        t = threading.Thread(target=run,args=[data_list,i])\n",
    "        t.start()"
   ]
  },
  {
   "cell_type": "code",
   "execution_count": 2,
   "metadata": {},
   "outputs": [
    {
     "name": "stdout",
     "output_type": "stream",
     "text": [
      "20\n",
      "20\n"
     ]
    }
   ],
   "source": [
    "f = lambda x:x*2\n",
    "print(f(10))\n",
    "print((lambda x:x*2)(10))"
   ]
  },
  {
   "cell_type": "code",
   "execution_count": 4,
   "metadata": {},
   "outputs": [
    {
     "name": "stdout",
     "output_type": "stream",
     "text": [
      "1\n",
      "2\n",
      "3\n"
     ]
    }
   ],
   "source": [
    "for i in ['1','12','123']:\n",
    "    print(len(i))"
   ]
  },
  {
   "cell_type": "code",
   "execution_count": 14,
   "metadata": {},
   "outputs": [
    {
     "name": "stdout",
     "output_type": "stream",
     "text": [
      "<map object at 0x7fe498b7fc10>\n",
      "[1, 2, 3]\n"
     ]
    }
   ],
   "source": [
    "print(map(len,['1','12','123']))\n",
    "print(list(map(len,['1','12','123'])))"
   ]
  },
  {
   "cell_type": "code",
   "execution_count": 18,
   "metadata": {},
   "outputs": [
    {
     "name": "stdout",
     "output_type": "stream",
     "text": [
      "THANLON\n",
      "KIKU\n"
     ]
    }
   ],
   "source": [
    "def upper(item):\n",
    "    return item.upper()\n",
    "lst = ['thanlon','kiku']\n",
    "for item in lst:\n",
    "    print(upper(item))"
   ]
  },
  {
   "cell_type": "code",
   "execution_count": 20,
   "metadata": {},
   "outputs": [
    {
     "name": "stdout",
     "output_type": "stream",
     "text": [
      "['THANLON', 'KIKU']\n"
     ]
    }
   ],
   "source": [
    "lst = ['thanlon','kiku']\n",
    "print(list(map(lambda item:item.upper(),lst)))"
   ]
  },
  {
   "cell_type": "code",
   "execution_count": null,
   "metadata": {},
   "outputs": [],
   "source": []
  }
 ],
 "metadata": {
  "kernelspec": {
   "display_name": "Python 3",
   "language": "python",
   "name": "python3"
  },
  "language_info": {
   "codemirror_mode": {
    "name": "ipython",
    "version": 3
   },
   "file_extension": ".py",
   "mimetype": "text/x-python",
   "name": "python",
   "nbconvert_exporter": "python",
   "pygments_lexer": "ipython3",
   "version": "3.7.5"
  }
 },
 "nbformat": 4,
 "nbformat_minor": 2
}
